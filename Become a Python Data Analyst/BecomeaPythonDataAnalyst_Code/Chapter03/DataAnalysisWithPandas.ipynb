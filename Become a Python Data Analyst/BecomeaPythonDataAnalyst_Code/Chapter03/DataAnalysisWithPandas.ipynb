{
 "cells": [
  {
   "cell_type": "code",
   "execution_count": 1,
   "metadata": {
    "collapsed": true
   },
   "outputs": [],
   "source": [
    "import numpy as np\n",
    "import matplotlib.pyplot as plt\n",
    "%matplotlib inline"
   ]
  },
  {
   "cell_type": "markdown",
   "metadata": {},
   "source": [
    "# The Pandas library"
   ]
  },
  {
   "cell_type": "markdown",
   "metadata": {},
   "source": [
    "**From the Pandas documentation:**\n",
    "\n",
    "**pandas** is everyone's favorite data analyis library providing fast, flexible, and expressive data structures designed to work with *relational* or table-like data (SQL table or Excel spreadsheet). It is a fundamental high-level building block for doing practical, real world data analysis in Python. \n",
    "\n",
    "pandas is well suited for:\n",
    "\n",
    "- Tabular data with heterogeneously-typed columns, as in an SQL table or Excel spreadsheet\n",
    "- Ordered and unordered (not necessarily fixed-frequency) time series data.\n",
    "- Arbitrary matrix data (homogeneously typed or heterogeneous) with row and column labels\n",
    "- Any other form of observational / statistical data sets. The data actually need not be labeled at all to be placed into a pandas data structure\n",
    "\n",
    "The two primary data structures of pandas, **Series** (1-dimensional) and **DataFrame** (2-dimensional), handle the vast majority of typical use cases in finance, statistics, social science, and many areas of engineering. Pandas is built on top of NumPy and is intended to integrate well within a scientific computing environment with many other 3rd party libraries.\n",
    "\n",
    "<p>Here are just a few of the things that pandas does well:</p>\n",
    "<blockquote>\n",
    "<div><ul class=\"simple\">\n",
    "<li>Easy handling of <strong>missing data</strong> (represented as NaN) in floating point as\n",
    "well as non-floating point data</li>\n",
    "<li>Size mutability: columns can be <strong>inserted and deleted</strong> from DataFrame and\n",
    "higher dimensional objects</li>\n",
    "<li>Automatic and explicit <strong>data alignment</strong>: objects can be explicitly\n",
    "aligned to a set of labels, or the user can simply ignore the labels and\n",
    "let <cite>Series</cite>, <cite>DataFrame</cite>, etc. automatically align the data for you in\n",
    "computations</li>\n",
    "<li>Powerful, flexible <strong>group by</strong> functionality to perform\n",
    "split-apply-combine operations on data sets, for both aggregating and\n",
    "transforming data</li>\n",
    "<li>Make it <strong>easy to convert</strong> ragged, differently-indexed data in other\n",
    "Python and NumPy data structures into DataFrame objects</li>\n",
    "<li>Intelligent label-based <strong>slicing</strong>, <strong>fancy indexing</strong>, and <strong>subsetting</strong>\n",
    "of large data sets</li>\n",
    "<li>Intuitive <strong>merging</strong> and <strong>joining</strong> data sets</li>\n",
    "<li>Flexible <strong>reshaping</strong> and pivoting of data sets</li>\n",
    "<li><strong>Hierarchical</strong> labeling of axes (possible to have multiple labels per\n",
    "tick)</li>\n",
    "<li>Robust IO tools for loading data from <strong>flat files</strong> (CSV and delimited),\n",
    "Excel files, databases, and saving / loading data from the ultrafast <strong>HDF5\n",
    "format</strong></li>\n",
    "<li><strong>Time series</strong>-specific functionality: date range generation and frequency\n",
    "conversion, moving window statistics, moving window linear regressions,\n",
    "date shifting and lagging, etc.</li>\n",
    "</ul>\n",
    "</div></blockquote>\n",
    "<p>Many of these principles are here to address the shortcomings frequently\n",
    "experienced using other languages / scientific research environments. For data\n",
    "scientists, working with data is typically divided into multiple stages:\n",
    "munging and cleaning data, analyzing / modeling it, then organizing the results\n",
    "of the analysis into a form suitable for plotting or tabular display. pandas\n",
    "is the ideal tool for all of these tasks.</p>"
   ]
  },
  {
   "cell_type": "markdown",
   "metadata": {},
   "source": [
    "# Introducing the most important objects: Series and DataFrames"
   ]
  },
  {
   "cell_type": "code",
   "execution_count": 2,
   "metadata": {
    "collapsed": true
   },
   "outputs": [],
   "source": [
    "# The importing convention\n",
    "import pandas as pd"
   ]
  },
  {
   "cell_type": "markdown",
   "metadata": {},
   "source": [
    "## The Pandas Series\n",
    "\n",
    "The **Series** data structure in Pandas is a <i>one-dimensional labeled array</i>. \n",
    "\n",
    "* Data in the array can be of any type (integers, strings, floating point numbers, Python objects, etc.). \n",
    "* Data within the array is homogeneous\n",
    "* Pandas Series objects always have an index: this gives them both ndarray-like and dict-like properties.\n",
    "    \n",
    "<img src=\"img/series3.jpg\">"
   ]
  },
  {
   "cell_type": "markdown",
   "metadata": {},
   "source": [
    "## Creating a Pandas Series"
   ]
  },
  {
   "cell_type": "markdown",
   "metadata": {},
   "source": [
    "There are many ways to create a Pandas Series objects, some of the most common ways are:\n",
    "- Creation from a list\n",
    "- Creation from a dictionary\n",
    "- Creation from a ndarray\n",
    "- From an external source like a file"
   ]
  },
  {
   "cell_type": "code",
   "execution_count": 3,
   "metadata": {},
   "outputs": [
    {
     "data": {
      "text/plain": [
       "Mon    33\n",
       "Tue    19\n",
       "Wed    15\n",
       "Thu    89\n",
       "Fri    11\n",
       "Sat    -5\n",
       "Sun     9\n",
       "dtype: int64"
      ]
     },
     "execution_count": 3,
     "metadata": {},
     "output_type": "execute_result"
    }
   ],
   "source": [
    "# define the data and index as lists\n",
    "temperature = [33, 19, 15, 89, 11, -5, 9]\n",
    "days = ['Mon','Tue','Wed','Thu','Fri','Sat','Sun']\n",
    "\n",
    "# create series \n",
    "series_from_list = pd.Series(temperature, index=days)\n",
    "series_from_list"
   ]
  },
  {
   "cell_type": "code",
   "execution_count": 4,
   "metadata": {},
   "outputs": [
    {
     "data": {
      "text/plain": [
       "Fri    11\n",
       "Mon    33\n",
       "Sat    -5\n",
       "Sun     9\n",
       "Thu    89\n",
       "Tue    19\n",
       "Wed    15\n",
       "dtype: int64"
      ]
     },
     "execution_count": 4,
     "metadata": {},
     "output_type": "execute_result"
    }
   ],
   "source": [
    "# from a dictionary\n",
    "my_dict = {'Mon': 33, 'Tue': 19, 'Wed': 15, 'Thu': 89, 'Fri': 11, 'Sat': -5, 'Sun': 9}\n",
    "series_from_dict = pd.Series(my_dict)\n",
    "series_from_dict"
   ]
  },
  {
   "cell_type": "code",
   "execution_count": 5,
   "metadata": {},
   "outputs": [
    {
     "data": {
      "text/plain": [
       "0      0.000000\n",
       "1      0.714286\n",
       "2      1.428571\n",
       "3      2.142857\n",
       "4      2.857143\n",
       "5      3.571429\n",
       "6      4.285714\n",
       "7      5.000000\n",
       "8      5.714286\n",
       "9      6.428571\n",
       "10     7.142857\n",
       "11     7.857143\n",
       "12     8.571429\n",
       "13     9.285714\n",
       "14    10.000000\n",
       "dtype: float64"
      ]
     },
     "execution_count": 5,
     "metadata": {},
     "output_type": "execute_result"
    }
   ],
   "source": [
    "# From a numpy array\n",
    "my_array = np.linspace(0,10,15)\n",
    "series_from_ndarray = pd.Series(my_array)\n",
    "series_from_ndarray"
   ]
  },
  {
   "cell_type": "code",
   "execution_count": 6,
   "metadata": {},
   "outputs": [
    {
     "data": {
      "text/plain": [
       "Mon    2.146436e+14\n",
       "Tue    1.784823e+08\n",
       "Wed    3.269017e+06\n",
       "Thu    4.489613e+38\n",
       "Fri    5.987414e+04\n",
       "Sat    6.737947e-03\n",
       "Sun    8.103084e+03\n",
       "dtype: float64"
      ]
     },
     "execution_count": 6,
     "metadata": {},
     "output_type": "execute_result"
    }
   ],
   "source": [
    "#Vectorized operations also work in pandas Series\n",
    "np.exp(series_from_list)"
   ]
  },
  {
   "cell_type": "markdown",
   "metadata": {},
   "source": [
    "## Pandas DataFrames\n",
    "\n",
    "DataFrame is a 2-dimensional labeled data structure with columns of potentially different types. You can think of it like a spreadsheet or SQL table, or a dict of Series objects.\n",
    "\n",
    "<img src=\"img/df1.jpg\">\n",
    "\n",
    "You can create a DataFrame from:\n",
    "\n",
    "* Dict of 1D ndarrays, lists, dicts, or Series\n",
    "* 2-D numpy.ndarray\n",
    "* From text, CSV, Excel files or databases\n",
    "* Many other ways\n",
    "\n",
    "Here's an example where we have set the Dates column to be the index and label for the rows. \n",
    "\n",
    "<img src=\"img/df2.jpg\">"
   ]
  },
  {
   "cell_type": "markdown",
   "metadata": {},
   "source": [
    "# Main properties, operations and manipulations "
   ]
  },
  {
   "cell_type": "markdown",
   "metadata": {},
   "source": [
    "## Reading the data"
   ]
  },
  {
   "cell_type": "markdown",
   "metadata": {},
   "source": [
    "** Sample data: HR Employee Attrition and Performance **\n",
    "You can get it from here:\n",
    "\n",
    "https://www.ibm.com/communities/analytics/watson-analytics-blog/hr-employee-attrition/"
   ]
  },
  {
   "cell_type": "code",
   "execution_count": 7,
   "metadata": {
    "collapsed": true
   },
   "outputs": [],
   "source": [
    "file_url = \"https://community.watsonanalytics.com/wp-content/uploads/2015/03/WA_Fn-UseC_-HR-Employee-Attrition.xlsx\""
   ]
  },
  {
   "cell_type": "code",
   "execution_count": 8,
   "metadata": {},
   "outputs": [],
   "source": [
    "data = pd.read_excel(io=file_url, sheetname=0, index_col='EmployeeNumber')"
   ]
  },
  {
   "cell_type": "markdown",
   "metadata": {},
   "source": [
    "## The anatomy of a DataFrame"
   ]
  },
  {
   "cell_type": "markdown",
   "metadata": {},
   "source": [
    "A DataFrame consists on three parts:\n",
    "\n",
    "1. Index\n",
    "2. Columns Names (Column Index)\n",
    "3. Data\n",
    "\n",
    "The row and column labels can be accessed respectively by accessing the ``index`` and ``columns`` attributes:"
   ]
  },
  {
   "cell_type": "code",
   "execution_count": 9,
   "metadata": {},
   "outputs": [
    {
     "data": {
      "text/plain": [
       "Index(['Age', 'Attrition', 'BusinessTravel', 'DailyRate', 'Department',\n",
       "       'DistanceFromHome', 'Education', 'EducationField', 'EmployeeCount',\n",
       "       'EnvironmentSatisfaction', 'Gender', 'HourlyRate', 'JobInvolvement',\n",
       "       'JobLevel', 'JobRole', 'JobSatisfaction', 'MaritalStatus',\n",
       "       'MonthlyIncome', 'MonthlyRate', 'NumCompaniesWorked', 'Over18',\n",
       "       'OverTime', 'PercentSalaryHike', 'PerformanceRating',\n",
       "       'RelationshipSatisfaction', 'StandardHours', 'StockOptionLevel',\n",
       "       'TotalWorkingYears', 'TrainingTimesLastYear', 'WorkLifeBalance',\n",
       "       'YearsAtCompany', 'YearsInCurrentRole', 'YearsSinceLastPromotion',\n",
       "       'YearsWithCurrManager'],\n",
       "      dtype='object')"
      ]
     },
     "execution_count": 9,
     "metadata": {},
     "output_type": "execute_result"
    }
   ],
   "source": [
    "data.columns"
   ]
  },
  {
   "cell_type": "code",
   "execution_count": 10,
   "metadata": {},
   "outputs": [
    {
     "data": {
      "text/plain": [
       "Int64Index([   1,    2,    4,    5,    7,    8,   10,   11,   12,   13,\n",
       "            ...\n",
       "            2054, 2055, 2056, 2057, 2060, 2061, 2062, 2064, 2065, 2068],\n",
       "           dtype='int64', name='EmployeeNumber', length=1470)"
      ]
     },
     "execution_count": 10,
     "metadata": {},
     "output_type": "execute_result"
    }
   ],
   "source": [
    "data.index"
   ]
  },
  {
   "cell_type": "code",
   "execution_count": 11,
   "metadata": {},
   "outputs": [
    {
     "data": {
      "text/plain": [
       "array([[41, 'Yes', 'Travel_Rarely', ..., 4, 0, 5],\n",
       "       [49, 'No', 'Travel_Frequently', ..., 7, 1, 7],\n",
       "       [37, 'Yes', 'Travel_Rarely', ..., 0, 0, 0],\n",
       "       ..., \n",
       "       [27, 'No', 'Travel_Rarely', ..., 2, 0, 3],\n",
       "       [49, 'No', 'Travel_Frequently', ..., 6, 0, 8],\n",
       "       [34, 'No', 'Travel_Rarely', ..., 3, 1, 2]], dtype=object)"
      ]
     },
     "execution_count": 11,
     "metadata": {},
     "output_type": "execute_result"
    }
   ],
   "source": [
    "data.values"
   ]
  },
  {
   "cell_type": "markdown",
   "metadata": {},
   "source": [
    "## Inspecting your data"
   ]
  },
  {
   "cell_type": "code",
   "execution_count": 12,
   "metadata": {},
   "outputs": [
    {
     "data": {
      "text/html": [
       "<div>\n",
       "<table border=\"1\" class=\"dataframe\">\n",
       "  <thead>\n",
       "    <tr style=\"text-align: right;\">\n",
       "      <th></th>\n",
       "      <th>Age</th>\n",
       "      <th>Attrition</th>\n",
       "      <th>BusinessTravel</th>\n",
       "      <th>DailyRate</th>\n",
       "      <th>Department</th>\n",
       "      <th>DistanceFromHome</th>\n",
       "      <th>Education</th>\n",
       "      <th>EducationField</th>\n",
       "      <th>EmployeeCount</th>\n",
       "      <th>EnvironmentSatisfaction</th>\n",
       "      <th>...</th>\n",
       "      <th>RelationshipSatisfaction</th>\n",
       "      <th>StandardHours</th>\n",
       "      <th>StockOptionLevel</th>\n",
       "      <th>TotalWorkingYears</th>\n",
       "      <th>TrainingTimesLastYear</th>\n",
       "      <th>WorkLifeBalance</th>\n",
       "      <th>YearsAtCompany</th>\n",
       "      <th>YearsInCurrentRole</th>\n",
       "      <th>YearsSinceLastPromotion</th>\n",
       "      <th>YearsWithCurrManager</th>\n",
       "    </tr>\n",
       "    <tr>\n",
       "      <th>EmployeeNumber</th>\n",
       "      <th></th>\n",
       "      <th></th>\n",
       "      <th></th>\n",
       "      <th></th>\n",
       "      <th></th>\n",
       "      <th></th>\n",
       "      <th></th>\n",
       "      <th></th>\n",
       "      <th></th>\n",
       "      <th></th>\n",
       "      <th></th>\n",
       "      <th></th>\n",
       "      <th></th>\n",
       "      <th></th>\n",
       "      <th></th>\n",
       "      <th></th>\n",
       "      <th></th>\n",
       "      <th></th>\n",
       "      <th></th>\n",
       "      <th></th>\n",
       "      <th></th>\n",
       "    </tr>\n",
       "  </thead>\n",
       "  <tbody>\n",
       "    <tr>\n",
       "      <th>1</th>\n",
       "      <td>41</td>\n",
       "      <td>Yes</td>\n",
       "      <td>Travel_Rarely</td>\n",
       "      <td>1102</td>\n",
       "      <td>Sales</td>\n",
       "      <td>1</td>\n",
       "      <td>2</td>\n",
       "      <td>Life Sciences</td>\n",
       "      <td>1</td>\n",
       "      <td>2</td>\n",
       "      <td>...</td>\n",
       "      <td>1</td>\n",
       "      <td>80</td>\n",
       "      <td>0</td>\n",
       "      <td>8</td>\n",
       "      <td>0</td>\n",
       "      <td>1</td>\n",
       "      <td>6</td>\n",
       "      <td>4</td>\n",
       "      <td>0</td>\n",
       "      <td>5</td>\n",
       "    </tr>\n",
       "    <tr>\n",
       "      <th>2</th>\n",
       "      <td>49</td>\n",
       "      <td>No</td>\n",
       "      <td>Travel_Frequently</td>\n",
       "      <td>279</td>\n",
       "      <td>Research &amp; Development</td>\n",
       "      <td>8</td>\n",
       "      <td>1</td>\n",
       "      <td>Life Sciences</td>\n",
       "      <td>1</td>\n",
       "      <td>3</td>\n",
       "      <td>...</td>\n",
       "      <td>4</td>\n",
       "      <td>80</td>\n",
       "      <td>1</td>\n",
       "      <td>10</td>\n",
       "      <td>3</td>\n",
       "      <td>3</td>\n",
       "      <td>10</td>\n",
       "      <td>7</td>\n",
       "      <td>1</td>\n",
       "      <td>7</td>\n",
       "    </tr>\n",
       "    <tr>\n",
       "      <th>4</th>\n",
       "      <td>37</td>\n",
       "      <td>Yes</td>\n",
       "      <td>Travel_Rarely</td>\n",
       "      <td>1373</td>\n",
       "      <td>Research &amp; Development</td>\n",
       "      <td>2</td>\n",
       "      <td>2</td>\n",
       "      <td>Other</td>\n",
       "      <td>1</td>\n",
       "      <td>4</td>\n",
       "      <td>...</td>\n",
       "      <td>2</td>\n",
       "      <td>80</td>\n",
       "      <td>0</td>\n",
       "      <td>7</td>\n",
       "      <td>3</td>\n",
       "      <td>3</td>\n",
       "      <td>0</td>\n",
       "      <td>0</td>\n",
       "      <td>0</td>\n",
       "      <td>0</td>\n",
       "    </tr>\n",
       "    <tr>\n",
       "      <th>5</th>\n",
       "      <td>33</td>\n",
       "      <td>No</td>\n",
       "      <td>Travel_Frequently</td>\n",
       "      <td>1392</td>\n",
       "      <td>Research &amp; Development</td>\n",
       "      <td>3</td>\n",
       "      <td>4</td>\n",
       "      <td>Life Sciences</td>\n",
       "      <td>1</td>\n",
       "      <td>4</td>\n",
       "      <td>...</td>\n",
       "      <td>3</td>\n",
       "      <td>80</td>\n",
       "      <td>0</td>\n",
       "      <td>8</td>\n",
       "      <td>3</td>\n",
       "      <td>3</td>\n",
       "      <td>8</td>\n",
       "      <td>7</td>\n",
       "      <td>3</td>\n",
       "      <td>0</td>\n",
       "    </tr>\n",
       "    <tr>\n",
       "      <th>7</th>\n",
       "      <td>27</td>\n",
       "      <td>No</td>\n",
       "      <td>Travel_Rarely</td>\n",
       "      <td>591</td>\n",
       "      <td>Research &amp; Development</td>\n",
       "      <td>2</td>\n",
       "      <td>1</td>\n",
       "      <td>Medical</td>\n",
       "      <td>1</td>\n",
       "      <td>1</td>\n",
       "      <td>...</td>\n",
       "      <td>4</td>\n",
       "      <td>80</td>\n",
       "      <td>1</td>\n",
       "      <td>6</td>\n",
       "      <td>3</td>\n",
       "      <td>3</td>\n",
       "      <td>2</td>\n",
       "      <td>2</td>\n",
       "      <td>2</td>\n",
       "      <td>2</td>\n",
       "    </tr>\n",
       "  </tbody>\n",
       "</table>\n",
       "<p>5 rows × 34 columns</p>\n",
       "</div>"
      ],
      "text/plain": [
       "                Age Attrition     BusinessTravel  DailyRate  \\\n",
       "EmployeeNumber                                                \n",
       "1                41       Yes      Travel_Rarely       1102   \n",
       "2                49        No  Travel_Frequently        279   \n",
       "4                37       Yes      Travel_Rarely       1373   \n",
       "5                33        No  Travel_Frequently       1392   \n",
       "7                27        No      Travel_Rarely        591   \n",
       "\n",
       "                            Department  DistanceFromHome  Education  \\\n",
       "EmployeeNumber                                                        \n",
       "1                                Sales                 1          2   \n",
       "2               Research & Development                 8          1   \n",
       "4               Research & Development                 2          2   \n",
       "5               Research & Development                 3          4   \n",
       "7               Research & Development                 2          1   \n",
       "\n",
       "               EducationField  EmployeeCount  EnvironmentSatisfaction  \\\n",
       "EmployeeNumber                                                          \n",
       "1               Life Sciences              1                        2   \n",
       "2               Life Sciences              1                        3   \n",
       "4                       Other              1                        4   \n",
       "5               Life Sciences              1                        4   \n",
       "7                     Medical              1                        1   \n",
       "\n",
       "                        ...          RelationshipSatisfaction  StandardHours  \\\n",
       "EmployeeNumber          ...                                                    \n",
       "1                       ...                                 1             80   \n",
       "2                       ...                                 4             80   \n",
       "4                       ...                                 2             80   \n",
       "5                       ...                                 3             80   \n",
       "7                       ...                                 4             80   \n",
       "\n",
       "                StockOptionLevel  TotalWorkingYears TrainingTimesLastYear  \\\n",
       "EmployeeNumber                                                              \n",
       "1                              0                  8                     0   \n",
       "2                              1                 10                     3   \n",
       "4                              0                  7                     3   \n",
       "5                              0                  8                     3   \n",
       "7                              1                  6                     3   \n",
       "\n",
       "                WorkLifeBalance YearsAtCompany  YearsInCurrentRole  \\\n",
       "EmployeeNumber                                                       \n",
       "1                             1              6                   4   \n",
       "2                             3             10                   7   \n",
       "4                             3              0                   0   \n",
       "5                             3              8                   7   \n",
       "7                             3              2                   2   \n",
       "\n",
       "                YearsSinceLastPromotion  YearsWithCurrManager  \n",
       "EmployeeNumber                                                 \n",
       "1                                     0                     5  \n",
       "2                                     1                     7  \n",
       "4                                     0                     0  \n",
       "5                                     3                     0  \n",
       "7                                     2                     2  \n",
       "\n",
       "[5 rows x 34 columns]"
      ]
     },
     "execution_count": 12,
     "metadata": {},
     "output_type": "execute_result"
    }
   ],
   "source": [
    "data.head()"
   ]
  },
  {
   "cell_type": "code",
   "execution_count": 13,
   "metadata": {},
   "outputs": [
    {
     "data": {
      "text/html": [
       "<div>\n",
       "<table border=\"1\" class=\"dataframe\">\n",
       "  <thead>\n",
       "    <tr style=\"text-align: right;\">\n",
       "      <th></th>\n",
       "      <th>Age</th>\n",
       "      <th>Attrition</th>\n",
       "      <th>BusinessTravel</th>\n",
       "      <th>DailyRate</th>\n",
       "      <th>Department</th>\n",
       "      <th>DistanceFromHome</th>\n",
       "      <th>Education</th>\n",
       "      <th>EducationField</th>\n",
       "      <th>EmployeeCount</th>\n",
       "      <th>EnvironmentSatisfaction</th>\n",
       "      <th>...</th>\n",
       "      <th>RelationshipSatisfaction</th>\n",
       "      <th>StandardHours</th>\n",
       "      <th>StockOptionLevel</th>\n",
       "      <th>TotalWorkingYears</th>\n",
       "      <th>TrainingTimesLastYear</th>\n",
       "      <th>WorkLifeBalance</th>\n",
       "      <th>YearsAtCompany</th>\n",
       "      <th>YearsInCurrentRole</th>\n",
       "      <th>YearsSinceLastPromotion</th>\n",
       "      <th>YearsWithCurrManager</th>\n",
       "    </tr>\n",
       "    <tr>\n",
       "      <th>EmployeeNumber</th>\n",
       "      <th></th>\n",
       "      <th></th>\n",
       "      <th></th>\n",
       "      <th></th>\n",
       "      <th></th>\n",
       "      <th></th>\n",
       "      <th></th>\n",
       "      <th></th>\n",
       "      <th></th>\n",
       "      <th></th>\n",
       "      <th></th>\n",
       "      <th></th>\n",
       "      <th></th>\n",
       "      <th></th>\n",
       "      <th></th>\n",
       "      <th></th>\n",
       "      <th></th>\n",
       "      <th></th>\n",
       "      <th></th>\n",
       "      <th></th>\n",
       "      <th></th>\n",
       "    </tr>\n",
       "  </thead>\n",
       "  <tbody>\n",
       "    <tr>\n",
       "      <th>2061</th>\n",
       "      <td>36</td>\n",
       "      <td>No</td>\n",
       "      <td>Travel_Frequently</td>\n",
       "      <td>884</td>\n",
       "      <td>Research &amp; Development</td>\n",
       "      <td>23</td>\n",
       "      <td>2</td>\n",
       "      <td>Medical</td>\n",
       "      <td>1</td>\n",
       "      <td>3</td>\n",
       "      <td>...</td>\n",
       "      <td>3</td>\n",
       "      <td>80</td>\n",
       "      <td>1</td>\n",
       "      <td>17</td>\n",
       "      <td>3</td>\n",
       "      <td>3</td>\n",
       "      <td>5</td>\n",
       "      <td>2</td>\n",
       "      <td>0</td>\n",
       "      <td>3</td>\n",
       "    </tr>\n",
       "    <tr>\n",
       "      <th>2062</th>\n",
       "      <td>39</td>\n",
       "      <td>No</td>\n",
       "      <td>Travel_Rarely</td>\n",
       "      <td>613</td>\n",
       "      <td>Research &amp; Development</td>\n",
       "      <td>6</td>\n",
       "      <td>1</td>\n",
       "      <td>Medical</td>\n",
       "      <td>1</td>\n",
       "      <td>4</td>\n",
       "      <td>...</td>\n",
       "      <td>1</td>\n",
       "      <td>80</td>\n",
       "      <td>1</td>\n",
       "      <td>9</td>\n",
       "      <td>5</td>\n",
       "      <td>3</td>\n",
       "      <td>7</td>\n",
       "      <td>7</td>\n",
       "      <td>1</td>\n",
       "      <td>7</td>\n",
       "    </tr>\n",
       "    <tr>\n",
       "      <th>2064</th>\n",
       "      <td>27</td>\n",
       "      <td>No</td>\n",
       "      <td>Travel_Rarely</td>\n",
       "      <td>155</td>\n",
       "      <td>Research &amp; Development</td>\n",
       "      <td>4</td>\n",
       "      <td>3</td>\n",
       "      <td>Life Sciences</td>\n",
       "      <td>1</td>\n",
       "      <td>2</td>\n",
       "      <td>...</td>\n",
       "      <td>2</td>\n",
       "      <td>80</td>\n",
       "      <td>1</td>\n",
       "      <td>6</td>\n",
       "      <td>0</td>\n",
       "      <td>3</td>\n",
       "      <td>6</td>\n",
       "      <td>2</td>\n",
       "      <td>0</td>\n",
       "      <td>3</td>\n",
       "    </tr>\n",
       "    <tr>\n",
       "      <th>2065</th>\n",
       "      <td>49</td>\n",
       "      <td>No</td>\n",
       "      <td>Travel_Frequently</td>\n",
       "      <td>1023</td>\n",
       "      <td>Sales</td>\n",
       "      <td>2</td>\n",
       "      <td>3</td>\n",
       "      <td>Medical</td>\n",
       "      <td>1</td>\n",
       "      <td>4</td>\n",
       "      <td>...</td>\n",
       "      <td>4</td>\n",
       "      <td>80</td>\n",
       "      <td>0</td>\n",
       "      <td>17</td>\n",
       "      <td>3</td>\n",
       "      <td>2</td>\n",
       "      <td>9</td>\n",
       "      <td>6</td>\n",
       "      <td>0</td>\n",
       "      <td>8</td>\n",
       "    </tr>\n",
       "    <tr>\n",
       "      <th>2068</th>\n",
       "      <td>34</td>\n",
       "      <td>No</td>\n",
       "      <td>Travel_Rarely</td>\n",
       "      <td>628</td>\n",
       "      <td>Research &amp; Development</td>\n",
       "      <td>8</td>\n",
       "      <td>3</td>\n",
       "      <td>Medical</td>\n",
       "      <td>1</td>\n",
       "      <td>2</td>\n",
       "      <td>...</td>\n",
       "      <td>1</td>\n",
       "      <td>80</td>\n",
       "      <td>0</td>\n",
       "      <td>6</td>\n",
       "      <td>3</td>\n",
       "      <td>4</td>\n",
       "      <td>4</td>\n",
       "      <td>3</td>\n",
       "      <td>1</td>\n",
       "      <td>2</td>\n",
       "    </tr>\n",
       "  </tbody>\n",
       "</table>\n",
       "<p>5 rows × 34 columns</p>\n",
       "</div>"
      ],
      "text/plain": [
       "                Age Attrition     BusinessTravel  DailyRate  \\\n",
       "EmployeeNumber                                                \n",
       "2061             36        No  Travel_Frequently        884   \n",
       "2062             39        No      Travel_Rarely        613   \n",
       "2064             27        No      Travel_Rarely        155   \n",
       "2065             49        No  Travel_Frequently       1023   \n",
       "2068             34        No      Travel_Rarely        628   \n",
       "\n",
       "                            Department  DistanceFromHome  Education  \\\n",
       "EmployeeNumber                                                        \n",
       "2061            Research & Development                23          2   \n",
       "2062            Research & Development                 6          1   \n",
       "2064            Research & Development                 4          3   \n",
       "2065                             Sales                 2          3   \n",
       "2068            Research & Development                 8          3   \n",
       "\n",
       "               EducationField  EmployeeCount  EnvironmentSatisfaction  \\\n",
       "EmployeeNumber                                                          \n",
       "2061                  Medical              1                        3   \n",
       "2062                  Medical              1                        4   \n",
       "2064            Life Sciences              1                        2   \n",
       "2065                  Medical              1                        4   \n",
       "2068                  Medical              1                        2   \n",
       "\n",
       "                        ...          RelationshipSatisfaction  StandardHours  \\\n",
       "EmployeeNumber          ...                                                    \n",
       "2061                    ...                                 3             80   \n",
       "2062                    ...                                 1             80   \n",
       "2064                    ...                                 2             80   \n",
       "2065                    ...                                 4             80   \n",
       "2068                    ...                                 1             80   \n",
       "\n",
       "                StockOptionLevel  TotalWorkingYears TrainingTimesLastYear  \\\n",
       "EmployeeNumber                                                              \n",
       "2061                           1                 17                     3   \n",
       "2062                           1                  9                     5   \n",
       "2064                           1                  6                     0   \n",
       "2065                           0                 17                     3   \n",
       "2068                           0                  6                     3   \n",
       "\n",
       "                WorkLifeBalance YearsAtCompany  YearsInCurrentRole  \\\n",
       "EmployeeNumber                                                       \n",
       "2061                          3              5                   2   \n",
       "2062                          3              7                   7   \n",
       "2064                          3              6                   2   \n",
       "2065                          2              9                   6   \n",
       "2068                          4              4                   3   \n",
       "\n",
       "                YearsSinceLastPromotion  YearsWithCurrManager  \n",
       "EmployeeNumber                                                 \n",
       "2061                                  0                     3  \n",
       "2062                                  1                     7  \n",
       "2064                                  0                     3  \n",
       "2065                                  0                     8  \n",
       "2068                                  1                     2  \n",
       "\n",
       "[5 rows x 34 columns]"
      ]
     },
     "execution_count": 13,
     "metadata": {},
     "output_type": "execute_result"
    }
   ],
   "source": [
    "data.tail()"
   ]
  },
  {
   "cell_type": "markdown",
   "metadata": {},
   "source": [
    "## Selection, addition, deletion"
   ]
  },
  {
   "cell_type": "markdown",
   "metadata": {},
   "source": [
    "You can treat a DataFrame like a dict of indexed Series objects. Getting, setting, and deleting columns works with the same syntax dictionary operations:"
   ]
  },
  {
   "cell_type": "code",
   "execution_count": 14,
   "metadata": {},
   "outputs": [
    {
     "data": {
      "text/plain": [
       "EmployeeNumber\n",
       "1    41\n",
       "2    49\n",
       "4    37\n",
       "5    33\n",
       "7    27\n",
       "Name: Age, dtype: int64"
      ]
     },
     "execution_count": 14,
     "metadata": {},
     "output_type": "execute_result"
    }
   ],
   "source": [
    "# Getting one column: .head() is just to print the first 5 values\n",
    "data['Age'].head()"
   ]
  },
  {
   "cell_type": "code",
   "execution_count": 15,
   "metadata": {},
   "outputs": [
    {
     "data": {
      "text/html": [
       "<div>\n",
       "<table border=\"1\" class=\"dataframe\">\n",
       "  <thead>\n",
       "    <tr style=\"text-align: right;\">\n",
       "      <th></th>\n",
       "      <th>Age</th>\n",
       "      <th>Gender</th>\n",
       "      <th>YearsAtCompany</th>\n",
       "    </tr>\n",
       "    <tr>\n",
       "      <th>EmployeeNumber</th>\n",
       "      <th></th>\n",
       "      <th></th>\n",
       "      <th></th>\n",
       "    </tr>\n",
       "  </thead>\n",
       "  <tbody>\n",
       "    <tr>\n",
       "      <th>1</th>\n",
       "      <td>41</td>\n",
       "      <td>Female</td>\n",
       "      <td>6</td>\n",
       "    </tr>\n",
       "    <tr>\n",
       "      <th>2</th>\n",
       "      <td>49</td>\n",
       "      <td>Male</td>\n",
       "      <td>10</td>\n",
       "    </tr>\n",
       "    <tr>\n",
       "      <th>4</th>\n",
       "      <td>37</td>\n",
       "      <td>Male</td>\n",
       "      <td>0</td>\n",
       "    </tr>\n",
       "    <tr>\n",
       "      <th>5</th>\n",
       "      <td>33</td>\n",
       "      <td>Female</td>\n",
       "      <td>8</td>\n",
       "    </tr>\n",
       "    <tr>\n",
       "      <th>7</th>\n",
       "      <td>27</td>\n",
       "      <td>Male</td>\n",
       "      <td>2</td>\n",
       "    </tr>\n",
       "  </tbody>\n",
       "</table>\n",
       "</div>"
      ],
      "text/plain": [
       "                Age  Gender  YearsAtCompany\n",
       "EmployeeNumber                             \n",
       "1                41  Female               6\n",
       "2                49    Male              10\n",
       "4                37    Male               0\n",
       "5                33  Female               8\n",
       "7                27    Male               2"
      ]
     },
     "execution_count": 15,
     "metadata": {},
     "output_type": "execute_result"
    }
   ],
   "source": [
    "# Getting more than one column\n",
    "data[['Age', 'Gender','YearsAtCompany']].head()"
   ]
  },
  {
   "cell_type": "code",
   "execution_count": 16,
   "metadata": {},
   "outputs": [
    {
     "data": {
      "text/plain": [
       "EmployeeNumber\n",
       "1    492\n",
       "2    588\n",
       "4    444\n",
       "5    396\n",
       "7    324\n",
       "Name: AgeInMonths, dtype: int64"
      ]
     },
     "execution_count": 16,
     "metadata": {},
     "output_type": "execute_result"
    }
   ],
   "source": [
    "# Adding a column\n",
    "data['AgeInMonths'] = 12*data['Age']\n",
    "data['AgeInMonths'].head()"
   ]
  },
  {
   "cell_type": "code",
   "execution_count": 17,
   "metadata": {},
   "outputs": [],
   "source": [
    "# Deleting a column\n",
    "del data['AgeInMonths']\n",
    "# the drop method can also be used\n",
    "data.drop('EmployeeCount', axis=1, inplace=True)"
   ]
  },
  {
   "cell_type": "code",
   "execution_count": 18,
   "metadata": {},
   "outputs": [
    {
     "data": {
      "text/plain": [
       "Index(['Age', 'Attrition', 'BusinessTravel', 'DailyRate', 'Department',\n",
       "       'DistanceFromHome', 'Education', 'EducationField',\n",
       "       'EnvironmentSatisfaction', 'Gender', 'HourlyRate', 'JobInvolvement',\n",
       "       'JobLevel', 'JobRole', 'JobSatisfaction', 'MaritalStatus',\n",
       "       'MonthlyIncome', 'MonthlyRate', 'NumCompaniesWorked', 'Over18',\n",
       "       'OverTime', 'PercentSalaryHike', 'PerformanceRating',\n",
       "       'RelationshipSatisfaction', 'StandardHours', 'StockOptionLevel',\n",
       "       'TotalWorkingYears', 'TrainingTimesLastYear', 'WorkLifeBalance',\n",
       "       'YearsAtCompany', 'YearsInCurrentRole', 'YearsSinceLastPromotion',\n",
       "       'YearsWithCurrManager'],\n",
       "      dtype='object')"
      ]
     },
     "execution_count": 18,
     "metadata": {},
     "output_type": "execute_result"
    }
   ],
   "source": [
    "data.columns"
   ]
  },
  {
   "cell_type": "markdown",
   "metadata": {},
   "source": [
    "### Slices"
   ]
  },
  {
   "cell_type": "code",
   "execution_count": 19,
   "metadata": {},
   "outputs": [
    {
     "data": {
      "text/plain": [
       "EmployeeNumber\n",
       "14    Travel_Rarely\n",
       "15    Travel_Rarely\n",
       "16    Travel_Rarely\n",
       "18    Travel_Rarely\n",
       "19    Travel_Rarely\n",
       "Name: BusinessTravel, dtype: object"
      ]
     },
     "execution_count": 19,
     "metadata": {},
     "output_type": "execute_result"
    }
   ],
   "source": [
    "data['BusinessTravel'][10:15]"
   ]
  },
  {
   "cell_type": "code",
   "execution_count": 20,
   "metadata": {},
   "outputs": [
    {
     "data": {
      "text/html": [
       "<div>\n",
       "<table border=\"1\" class=\"dataframe\">\n",
       "  <thead>\n",
       "    <tr style=\"text-align: right;\">\n",
       "      <th></th>\n",
       "      <th>Age</th>\n",
       "      <th>Attrition</th>\n",
       "      <th>BusinessTravel</th>\n",
       "      <th>DailyRate</th>\n",
       "      <th>Department</th>\n",
       "      <th>DistanceFromHome</th>\n",
       "      <th>Education</th>\n",
       "      <th>EducationField</th>\n",
       "      <th>EnvironmentSatisfaction</th>\n",
       "      <th>Gender</th>\n",
       "      <th>...</th>\n",
       "      <th>RelationshipSatisfaction</th>\n",
       "      <th>StandardHours</th>\n",
       "      <th>StockOptionLevel</th>\n",
       "      <th>TotalWorkingYears</th>\n",
       "      <th>TrainingTimesLastYear</th>\n",
       "      <th>WorkLifeBalance</th>\n",
       "      <th>YearsAtCompany</th>\n",
       "      <th>YearsInCurrentRole</th>\n",
       "      <th>YearsSinceLastPromotion</th>\n",
       "      <th>YearsWithCurrManager</th>\n",
       "    </tr>\n",
       "    <tr>\n",
       "      <th>EmployeeNumber</th>\n",
       "      <th></th>\n",
       "      <th></th>\n",
       "      <th></th>\n",
       "      <th></th>\n",
       "      <th></th>\n",
       "      <th></th>\n",
       "      <th></th>\n",
       "      <th></th>\n",
       "      <th></th>\n",
       "      <th></th>\n",
       "      <th></th>\n",
       "      <th></th>\n",
       "      <th></th>\n",
       "      <th></th>\n",
       "      <th></th>\n",
       "      <th></th>\n",
       "      <th></th>\n",
       "      <th></th>\n",
       "      <th></th>\n",
       "      <th></th>\n",
       "      <th></th>\n",
       "    </tr>\n",
       "  </thead>\n",
       "  <tbody>\n",
       "    <tr>\n",
       "      <th>14</th>\n",
       "      <td>35</td>\n",
       "      <td>No</td>\n",
       "      <td>Travel_Rarely</td>\n",
       "      <td>809</td>\n",
       "      <td>Research &amp; Development</td>\n",
       "      <td>16</td>\n",
       "      <td>3</td>\n",
       "      <td>Medical</td>\n",
       "      <td>1</td>\n",
       "      <td>Male</td>\n",
       "      <td>...</td>\n",
       "      <td>3</td>\n",
       "      <td>80</td>\n",
       "      <td>1</td>\n",
       "      <td>6</td>\n",
       "      <td>5</td>\n",
       "      <td>3</td>\n",
       "      <td>5</td>\n",
       "      <td>4</td>\n",
       "      <td>0</td>\n",
       "      <td>3</td>\n",
       "    </tr>\n",
       "    <tr>\n",
       "      <th>15</th>\n",
       "      <td>29</td>\n",
       "      <td>No</td>\n",
       "      <td>Travel_Rarely</td>\n",
       "      <td>153</td>\n",
       "      <td>Research &amp; Development</td>\n",
       "      <td>15</td>\n",
       "      <td>2</td>\n",
       "      <td>Life Sciences</td>\n",
       "      <td>4</td>\n",
       "      <td>Female</td>\n",
       "      <td>...</td>\n",
       "      <td>4</td>\n",
       "      <td>80</td>\n",
       "      <td>0</td>\n",
       "      <td>10</td>\n",
       "      <td>3</td>\n",
       "      <td>3</td>\n",
       "      <td>9</td>\n",
       "      <td>5</td>\n",
       "      <td>0</td>\n",
       "      <td>8</td>\n",
       "    </tr>\n",
       "    <tr>\n",
       "      <th>16</th>\n",
       "      <td>31</td>\n",
       "      <td>No</td>\n",
       "      <td>Travel_Rarely</td>\n",
       "      <td>670</td>\n",
       "      <td>Research &amp; Development</td>\n",
       "      <td>26</td>\n",
       "      <td>1</td>\n",
       "      <td>Life Sciences</td>\n",
       "      <td>1</td>\n",
       "      <td>Male</td>\n",
       "      <td>...</td>\n",
       "      <td>4</td>\n",
       "      <td>80</td>\n",
       "      <td>1</td>\n",
       "      <td>5</td>\n",
       "      <td>1</td>\n",
       "      <td>2</td>\n",
       "      <td>5</td>\n",
       "      <td>2</td>\n",
       "      <td>4</td>\n",
       "      <td>3</td>\n",
       "    </tr>\n",
       "    <tr>\n",
       "      <th>18</th>\n",
       "      <td>34</td>\n",
       "      <td>No</td>\n",
       "      <td>Travel_Rarely</td>\n",
       "      <td>1346</td>\n",
       "      <td>Research &amp; Development</td>\n",
       "      <td>19</td>\n",
       "      <td>2</td>\n",
       "      <td>Medical</td>\n",
       "      <td>2</td>\n",
       "      <td>Male</td>\n",
       "      <td>...</td>\n",
       "      <td>3</td>\n",
       "      <td>80</td>\n",
       "      <td>1</td>\n",
       "      <td>3</td>\n",
       "      <td>2</td>\n",
       "      <td>3</td>\n",
       "      <td>2</td>\n",
       "      <td>2</td>\n",
       "      <td>1</td>\n",
       "      <td>2</td>\n",
       "    </tr>\n",
       "    <tr>\n",
       "      <th>19</th>\n",
       "      <td>28</td>\n",
       "      <td>Yes</td>\n",
       "      <td>Travel_Rarely</td>\n",
       "      <td>103</td>\n",
       "      <td>Research &amp; Development</td>\n",
       "      <td>24</td>\n",
       "      <td>3</td>\n",
       "      <td>Life Sciences</td>\n",
       "      <td>3</td>\n",
       "      <td>Male</td>\n",
       "      <td>...</td>\n",
       "      <td>2</td>\n",
       "      <td>80</td>\n",
       "      <td>0</td>\n",
       "      <td>6</td>\n",
       "      <td>4</td>\n",
       "      <td>3</td>\n",
       "      <td>4</td>\n",
       "      <td>2</td>\n",
       "      <td>0</td>\n",
       "      <td>3</td>\n",
       "    </tr>\n",
       "  </tbody>\n",
       "</table>\n",
       "<p>5 rows × 33 columns</p>\n",
       "</div>"
      ],
      "text/plain": [
       "                Age Attrition BusinessTravel  DailyRate  \\\n",
       "EmployeeNumber                                            \n",
       "14               35        No  Travel_Rarely        809   \n",
       "15               29        No  Travel_Rarely        153   \n",
       "16               31        No  Travel_Rarely        670   \n",
       "18               34        No  Travel_Rarely       1346   \n",
       "19               28       Yes  Travel_Rarely        103   \n",
       "\n",
       "                            Department  DistanceFromHome  Education  \\\n",
       "EmployeeNumber                                                        \n",
       "14              Research & Development                16          3   \n",
       "15              Research & Development                15          2   \n",
       "16              Research & Development                26          1   \n",
       "18              Research & Development                19          2   \n",
       "19              Research & Development                24          3   \n",
       "\n",
       "               EducationField  EnvironmentSatisfaction  Gender  \\\n",
       "EmployeeNumber                                                   \n",
       "14                    Medical                        1    Male   \n",
       "15              Life Sciences                        4  Female   \n",
       "16              Life Sciences                        1    Male   \n",
       "18                    Medical                        2    Male   \n",
       "19              Life Sciences                        3    Male   \n",
       "\n",
       "                       ...           RelationshipSatisfaction  StandardHours  \\\n",
       "EmployeeNumber         ...                                                     \n",
       "14                     ...                                  3             80   \n",
       "15                     ...                                  4             80   \n",
       "16                     ...                                  4             80   \n",
       "18                     ...                                  3             80   \n",
       "19                     ...                                  2             80   \n",
       "\n",
       "                StockOptionLevel TotalWorkingYears  TrainingTimesLastYear  \\\n",
       "EmployeeNumber                                                              \n",
       "14                             1                 6                      5   \n",
       "15                             0                10                      3   \n",
       "16                             1                 5                      1   \n",
       "18                             1                 3                      2   \n",
       "19                             0                 6                      4   \n",
       "\n",
       "               WorkLifeBalance  YearsAtCompany  YearsInCurrentRole  \\\n",
       "EmployeeNumber                                                       \n",
       "14                           3               5                   4   \n",
       "15                           3               9                   5   \n",
       "16                           2               5                   2   \n",
       "18                           3               2                   2   \n",
       "19                           3               4                   2   \n",
       "\n",
       "                YearsSinceLastPromotion YearsWithCurrManager  \n",
       "EmployeeNumber                                                \n",
       "14                                    0                    3  \n",
       "15                                    0                    8  \n",
       "16                                    4                    3  \n",
       "18                                    1                    2  \n",
       "19                                    0                    3  \n",
       "\n",
       "[5 rows x 33 columns]"
      ]
     },
     "execution_count": 20,
     "metadata": {},
     "output_type": "execute_result"
    }
   ],
   "source": [
    "data[10:15]"
   ]
  },
  {
   "cell_type": "markdown",
   "metadata": {},
   "source": [
    "### Selection by label"
   ]
  },
  {
   "cell_type": "code",
   "execution_count": 21,
   "metadata": {
    "collapsed": true
   },
   "outputs": [],
   "source": [
    "selected_EmployeeNumbers = [15, 94, 337, 1120]"
   ]
  },
  {
   "cell_type": "code",
   "execution_count": 22,
   "metadata": {},
   "outputs": [
    {
     "data": {
      "text/plain": [
       "EmployeeNumber\n",
       "15      9\n",
       "94      5\n",
       "337     2\n",
       "1120    7\n",
       "Name: YearsAtCompany, dtype: int64"
      ]
     },
     "execution_count": 22,
     "metadata": {},
     "output_type": "execute_result"
    }
   ],
   "source": [
    "data['YearsAtCompany'].loc[selected_EmployeeNumbers]"
   ]
  },
  {
   "cell_type": "code",
   "execution_count": 23,
   "metadata": {},
   "outputs": [
    {
     "data": {
      "text/html": [
       "<div>\n",
       "<table border=\"1\" class=\"dataframe\">\n",
       "  <thead>\n",
       "    <tr style=\"text-align: right;\">\n",
       "      <th></th>\n",
       "      <th>Age</th>\n",
       "      <th>Attrition</th>\n",
       "      <th>BusinessTravel</th>\n",
       "      <th>DailyRate</th>\n",
       "      <th>Department</th>\n",
       "      <th>DistanceFromHome</th>\n",
       "      <th>Education</th>\n",
       "      <th>EducationField</th>\n",
       "      <th>EnvironmentSatisfaction</th>\n",
       "      <th>Gender</th>\n",
       "      <th>...</th>\n",
       "      <th>RelationshipSatisfaction</th>\n",
       "      <th>StandardHours</th>\n",
       "      <th>StockOptionLevel</th>\n",
       "      <th>TotalWorkingYears</th>\n",
       "      <th>TrainingTimesLastYear</th>\n",
       "      <th>WorkLifeBalance</th>\n",
       "      <th>YearsAtCompany</th>\n",
       "      <th>YearsInCurrentRole</th>\n",
       "      <th>YearsSinceLastPromotion</th>\n",
       "      <th>YearsWithCurrManager</th>\n",
       "    </tr>\n",
       "    <tr>\n",
       "      <th>EmployeeNumber</th>\n",
       "      <th></th>\n",
       "      <th></th>\n",
       "      <th></th>\n",
       "      <th></th>\n",
       "      <th></th>\n",
       "      <th></th>\n",
       "      <th></th>\n",
       "      <th></th>\n",
       "      <th></th>\n",
       "      <th></th>\n",
       "      <th></th>\n",
       "      <th></th>\n",
       "      <th></th>\n",
       "      <th></th>\n",
       "      <th></th>\n",
       "      <th></th>\n",
       "      <th></th>\n",
       "      <th></th>\n",
       "      <th></th>\n",
       "      <th></th>\n",
       "      <th></th>\n",
       "    </tr>\n",
       "  </thead>\n",
       "  <tbody>\n",
       "    <tr>\n",
       "      <th>15</th>\n",
       "      <td>29</td>\n",
       "      <td>No</td>\n",
       "      <td>Travel_Rarely</td>\n",
       "      <td>153</td>\n",
       "      <td>Research &amp; Development</td>\n",
       "      <td>15</td>\n",
       "      <td>2</td>\n",
       "      <td>Life Sciences</td>\n",
       "      <td>4</td>\n",
       "      <td>Female</td>\n",
       "      <td>...</td>\n",
       "      <td>4</td>\n",
       "      <td>80</td>\n",
       "      <td>0</td>\n",
       "      <td>10</td>\n",
       "      <td>3</td>\n",
       "      <td>3</td>\n",
       "      <td>9</td>\n",
       "      <td>5</td>\n",
       "      <td>0</td>\n",
       "      <td>8</td>\n",
       "    </tr>\n",
       "    <tr>\n",
       "      <th>94</th>\n",
       "      <td>29</td>\n",
       "      <td>No</td>\n",
       "      <td>Travel_Rarely</td>\n",
       "      <td>1328</td>\n",
       "      <td>Research &amp; Development</td>\n",
       "      <td>2</td>\n",
       "      <td>3</td>\n",
       "      <td>Life Sciences</td>\n",
       "      <td>3</td>\n",
       "      <td>Male</td>\n",
       "      <td>...</td>\n",
       "      <td>4</td>\n",
       "      <td>80</td>\n",
       "      <td>1</td>\n",
       "      <td>6</td>\n",
       "      <td>3</td>\n",
       "      <td>3</td>\n",
       "      <td>5</td>\n",
       "      <td>4</td>\n",
       "      <td>0</td>\n",
       "      <td>4</td>\n",
       "    </tr>\n",
       "    <tr>\n",
       "      <th>337</th>\n",
       "      <td>31</td>\n",
       "      <td>No</td>\n",
       "      <td>Travel_Frequently</td>\n",
       "      <td>1327</td>\n",
       "      <td>Research &amp; Development</td>\n",
       "      <td>3</td>\n",
       "      <td>4</td>\n",
       "      <td>Medical</td>\n",
       "      <td>2</td>\n",
       "      <td>Male</td>\n",
       "      <td>...</td>\n",
       "      <td>1</td>\n",
       "      <td>80</td>\n",
       "      <td>1</td>\n",
       "      <td>9</td>\n",
       "      <td>3</td>\n",
       "      <td>3</td>\n",
       "      <td>2</td>\n",
       "      <td>2</td>\n",
       "      <td>2</td>\n",
       "      <td>2</td>\n",
       "    </tr>\n",
       "    <tr>\n",
       "      <th>1120</th>\n",
       "      <td>29</td>\n",
       "      <td>No</td>\n",
       "      <td>Travel_Rarely</td>\n",
       "      <td>1107</td>\n",
       "      <td>Research &amp; Development</td>\n",
       "      <td>28</td>\n",
       "      <td>4</td>\n",
       "      <td>Life Sciences</td>\n",
       "      <td>3</td>\n",
       "      <td>Female</td>\n",
       "      <td>...</td>\n",
       "      <td>1</td>\n",
       "      <td>80</td>\n",
       "      <td>1</td>\n",
       "      <td>11</td>\n",
       "      <td>1</td>\n",
       "      <td>3</td>\n",
       "      <td>7</td>\n",
       "      <td>5</td>\n",
       "      <td>1</td>\n",
       "      <td>7</td>\n",
       "    </tr>\n",
       "  </tbody>\n",
       "</table>\n",
       "<p>4 rows × 33 columns</p>\n",
       "</div>"
      ],
      "text/plain": [
       "                Age Attrition     BusinessTravel  DailyRate  \\\n",
       "EmployeeNumber                                                \n",
       "15               29        No      Travel_Rarely        153   \n",
       "94               29        No      Travel_Rarely       1328   \n",
       "337              31        No  Travel_Frequently       1327   \n",
       "1120             29        No      Travel_Rarely       1107   \n",
       "\n",
       "                            Department  DistanceFromHome  Education  \\\n",
       "EmployeeNumber                                                        \n",
       "15              Research & Development                15          2   \n",
       "94              Research & Development                 2          3   \n",
       "337             Research & Development                 3          4   \n",
       "1120            Research & Development                28          4   \n",
       "\n",
       "               EducationField  EnvironmentSatisfaction  Gender  \\\n",
       "EmployeeNumber                                                   \n",
       "15              Life Sciences                        4  Female   \n",
       "94              Life Sciences                        3    Male   \n",
       "337                   Medical                        2    Male   \n",
       "1120            Life Sciences                        3  Female   \n",
       "\n",
       "                       ...           RelationshipSatisfaction  StandardHours  \\\n",
       "EmployeeNumber         ...                                                     \n",
       "15                     ...                                  4             80   \n",
       "94                     ...                                  4             80   \n",
       "337                    ...                                  1             80   \n",
       "1120                   ...                                  1             80   \n",
       "\n",
       "                StockOptionLevel TotalWorkingYears  TrainingTimesLastYear  \\\n",
       "EmployeeNumber                                                              \n",
       "15                             0                10                      3   \n",
       "94                             1                 6                      3   \n",
       "337                            1                 9                      3   \n",
       "1120                           1                11                      1   \n",
       "\n",
       "               WorkLifeBalance  YearsAtCompany  YearsInCurrentRole  \\\n",
       "EmployeeNumber                                                       \n",
       "15                           3               9                   5   \n",
       "94                           3               5                   4   \n",
       "337                          3               2                   2   \n",
       "1120                         3               7                   5   \n",
       "\n",
       "                YearsSinceLastPromotion YearsWithCurrManager  \n",
       "EmployeeNumber                                                \n",
       "15                                    0                    8  \n",
       "94                                    0                    4  \n",
       "337                                   2                    2  \n",
       "1120                                  1                    7  \n",
       "\n",
       "[4 rows x 33 columns]"
      ]
     },
     "execution_count": 23,
     "metadata": {},
     "output_type": "execute_result"
    }
   ],
   "source": [
    "data.loc[selected_EmployeeNumbers]"
   ]
  },
  {
   "cell_type": "code",
   "execution_count": null,
   "metadata": {},
   "outputs": [],
   "source": [
    "# Getting a single value\n",
    "data.loc[94,'YearsAtCompany']"
   ]
  },
  {
   "cell_type": "markdown",
   "metadata": {},
   "source": [
    "It is also possible to select by position using the *iloc* method"
   ]
  },
  {
   "cell_type": "markdown",
   "metadata": {},
   "source": [
    "## Answering simple questions about a dataset"
   ]
  },
  {
   "cell_type": "markdown",
   "metadata": {},
   "source": [
    "The HR director asks you to answer a few descripive questions about employees, you use this dataset to answer them:\n",
    "\n",
    "- How many employees are there by department in the dataset?\n",
    "- What is the overall attrition rate?\n",
    "- What is the average hourly rate?\n",
    "- What is the average number of years at the company?\n",
    "- Who are the 5 employees with the most number of years at the company?\n",
    "- How satisfied are employees overall?"
   ]
  },
  {
   "cell_type": "markdown",
   "metadata": {},
   "source": [
    "### How many employees are there by department in the dataset?"
   ]
  },
  {
   "cell_type": "code",
   "execution_count": 25,
   "metadata": {},
   "outputs": [
    {
     "data": {
      "text/plain": [
       "Research & Development    961\n",
       "Sales                     446\n",
       "Human Resources            63\n",
       "Name: Department, dtype: int64"
      ]
     },
     "execution_count": 25,
     "metadata": {},
     "output_type": "execute_result"
    }
   ],
   "source": [
    "data['Department'].value_counts()"
   ]
  },
  {
   "cell_type": "markdown",
   "metadata": {},
   "source": [
    "### What is the overall attrition rate?"
   ]
  },
  {
   "cell_type": "code",
   "execution_count": 27,
   "metadata": {},
   "outputs": [
    {
     "data": {
      "text/plain": [
       "No     1233\n",
       "Yes     237\n",
       "Name: Attrition, dtype: int64"
      ]
     },
     "execution_count": 27,
     "metadata": {},
     "output_type": "execute_result"
    }
   ],
   "source": [
    "data['Attrition'].value_counts()"
   ]
  },
  {
   "cell_type": "code",
   "execution_count": 28,
   "metadata": {},
   "outputs": [
    {
     "data": {
      "text/plain": [
       "No     0.838776\n",
       "Yes    0.161224\n",
       "Name: Attrition, dtype: float64"
      ]
     },
     "execution_count": 28,
     "metadata": {},
     "output_type": "execute_result"
    }
   ],
   "source": [
    "data['Attrition'].value_counts(normalize=True)"
   ]
  },
  {
   "cell_type": "code",
   "execution_count": 29,
   "metadata": {},
   "outputs": [
    {
     "data": {
      "text/plain": [
       "0.16122448979591836"
      ]
     },
     "execution_count": 29,
     "metadata": {},
     "output_type": "execute_result"
    }
   ],
   "source": [
    "attrition_rate = data['Attrition'].value_counts(normalize=True)['Yes']\n",
    "attrition_rate"
   ]
  },
  {
   "cell_type": "markdown",
   "metadata": {},
   "source": [
    "### What is the average hourly rate?"
   ]
  },
  {
   "cell_type": "code",
   "execution_count": 30,
   "metadata": {},
   "outputs": [
    {
     "data": {
      "text/plain": [
       "65.89115646258503"
      ]
     },
     "execution_count": 30,
     "metadata": {},
     "output_type": "execute_result"
    }
   ],
   "source": [
    "data['HourlyRate'].mean()"
   ]
  },
  {
   "cell_type": "markdown",
   "metadata": {},
   "source": [
    "### What is the average number of years at the company?"
   ]
  },
  {
   "cell_type": "code",
   "execution_count": 31,
   "metadata": {},
   "outputs": [
    {
     "data": {
      "text/plain": [
       "count    1470.000000\n",
       "mean        7.008163\n",
       "std         6.126525\n",
       "min         0.000000\n",
       "25%         3.000000\n",
       "50%         5.000000\n",
       "75%         9.000000\n",
       "max        40.000000\n",
       "Name: YearsAtCompany, dtype: float64"
      ]
     },
     "execution_count": 31,
     "metadata": {},
     "output_type": "execute_result"
    }
   ],
   "source": [
    "data['YearsAtCompany'].describe()"
   ]
  },
  {
   "cell_type": "markdown",
   "metadata": {},
   "source": [
    "### Who are the 5 employees with the most number of years at the company?"
   ]
  },
  {
   "cell_type": "code",
   "execution_count": 33,
   "metadata": {},
   "outputs": [
    {
     "data": {
      "text/plain": [
       "EmployeeNumber\n",
       "165     40\n",
       "131     37\n",
       "374     36\n",
       "1578    36\n",
       "776     34\n",
       "Name: YearsAtCompany, dtype: int64"
      ]
     },
     "execution_count": 33,
     "metadata": {},
     "output_type": "execute_result"
    }
   ],
   "source": [
    "data['YearsAtCompany'].sort_values(ascending=False)[:5]"
   ]
  },
  {
   "cell_type": "code",
   "execution_count": 34,
   "metadata": {},
   "outputs": [
    {
     "data": {
      "text/plain": [
       "Int64Index([165, 131, 374, 1578, 776], dtype='int64', name='EmployeeNumber')"
      ]
     },
     "execution_count": 34,
     "metadata": {},
     "output_type": "execute_result"
    }
   ],
   "source": [
    "data['YearsAtCompany'].sort_values(ascending=False)[:5].index"
   ]
  },
  {
   "cell_type": "markdown",
   "metadata": {},
   "source": [
    "### How satisfied are employees overall?"
   ]
  },
  {
   "cell_type": "code",
   "execution_count": 36,
   "metadata": {},
   "outputs": [
    {
     "data": {
      "text/plain": [
       "EmployeeNumber\n",
       "1    4\n",
       "2    2\n",
       "4    3\n",
       "5    3\n",
       "7    2\n",
       "Name: JobSatisfaction, dtype: int64"
      ]
     },
     "execution_count": 36,
     "metadata": {},
     "output_type": "execute_result"
    }
   ],
   "source": [
    "data['JobSatisfaction'].head()"
   ]
  },
  {
   "cell_type": "code",
   "execution_count": 37,
   "metadata": {
    "collapsed": true
   },
   "outputs": [],
   "source": [
    "JobSatisfaction_cat = {\n",
    "    1: 'Low',\n",
    "    2: 'Medium',\n",
    "    3: 'High',\n",
    "    4: 'Very High'\n",
    "}"
   ]
  },
  {
   "cell_type": "markdown",
   "metadata": {},
   "source": [
    "Transform this encodings to meaninful labels"
   ]
  },
  {
   "cell_type": "code",
   "execution_count": 38,
   "metadata": {},
   "outputs": [
    {
     "data": {
      "text/plain": [
       "EmployeeNumber\n",
       "1    Very High\n",
       "2       Medium\n",
       "4         High\n",
       "5         High\n",
       "7       Medium\n",
       "Name: JobSatisfaction, dtype: object"
      ]
     },
     "execution_count": 38,
     "metadata": {},
     "output_type": "execute_result"
    }
   ],
   "source": [
    "data['JobSatisfaction'] = data['JobSatisfaction'].map(JobSatisfaction_cat)\n",
    "data['JobSatisfaction'].head()"
   ]
  },
  {
   "cell_type": "code",
   "execution_count": 39,
   "metadata": {},
   "outputs": [
    {
     "data": {
      "text/plain": [
       "Very High    459\n",
       "High         442\n",
       "Low          289\n",
       "Medium       280\n",
       "Name: JobSatisfaction, dtype: int64"
      ]
     },
     "execution_count": 39,
     "metadata": {},
     "output_type": "execute_result"
    }
   ],
   "source": [
    "data['JobSatisfaction'].value_counts()"
   ]
  },
  {
   "cell_type": "code",
   "execution_count": 40,
   "metadata": {},
   "outputs": [
    {
     "data": {
      "text/plain": [
       "Very High    31.224490\n",
       "High         30.068027\n",
       "Low          19.659864\n",
       "Medium       19.047619\n",
       "Name: JobSatisfaction, dtype: float64"
      ]
     },
     "execution_count": 40,
     "metadata": {},
     "output_type": "execute_result"
    }
   ],
   "source": [
    "100*data['JobSatisfaction'].value_counts(normalize=True)"
   ]
  },
  {
   "cell_type": "code",
   "execution_count": null,
   "metadata": {},
   "outputs": [],
   "source": [
    "data['JobSatisfaction'].value_counts().plot(kind='bar')"
   ]
  },
  {
   "cell_type": "markdown",
   "metadata": {},
   "source": [
    "Transforming data to an ordinal category"
   ]
  },
  {
   "cell_type": "code",
   "execution_count": null,
   "metadata": {},
   "outputs": [],
   "source": [
    "data['JobSatisfaction'] = data['JobSatisfaction'].astype(dtype='category', \n",
    "                               categories=['Low', 'Medium', 'High', 'Very High'],\n",
    "                               ordered=True)\n",
    "data['JobSatisfaction'].head()"
   ]
  },
  {
   "cell_type": "code",
   "execution_count": null,
   "metadata": {},
   "outputs": [],
   "source": [
    "data['JobSatisfaction'].value_counts(sort=False).plot(kind='bar')"
   ]
  },
  {
   "cell_type": "markdown",
   "metadata": {},
   "source": [
    "## Further questions"
   ]
  },
  {
   "cell_type": "code",
   "execution_count": null,
   "metadata": {},
   "outputs": [],
   "source": [
    "data.columns"
   ]
  },
  {
   "cell_type": "markdown",
   "metadata": {},
   "source": [
    "After taking a look at your asnwers the HR director, asks you more questions:\n",
    "\n",
    "- Give me the list of the employees with Low level of JobSatisfaction\n",
    "- Give me the list of the employees with Low level of both JobSatisfaction and PerformanceRating\n",
    "- Compare the employees with Low and Very High JobSatisfaction across the following variables: Age, Department, DistanceFromHome, HourlyRate, MonthlyIncome and YearsAtCompany."
   ]
  },
  {
   "cell_type": "markdown",
   "metadata": {},
   "source": [
    "### Give me the list of the employees with Low level of JobSatisfaction"
   ]
  },
  {
   "cell_type": "code",
   "execution_count": 41,
   "metadata": {},
   "outputs": [
    {
     "data": {
      "text/plain": [
       "EmployeeNumber\n",
       "1       False\n",
       "2       False\n",
       "4       False\n",
       "5       False\n",
       "7       False\n",
       "8       False\n",
       "10       True\n",
       "11      False\n",
       "12      False\n",
       "13      False\n",
       "14      False\n",
       "15      False\n",
       "16      False\n",
       "18      False\n",
       "19      False\n",
       "20       True\n",
       "21      False\n",
       "22      False\n",
       "23      False\n",
       "24      False\n",
       "26      False\n",
       "27       True\n",
       "28      False\n",
       "30      False\n",
       "31       True\n",
       "32      False\n",
       "33       True\n",
       "35      False\n",
       "36      False\n",
       "38       True\n",
       "        ...  \n",
       "2025    False\n",
       "2026    False\n",
       "2027    False\n",
       "2031    False\n",
       "2032    False\n",
       "2034    False\n",
       "2035    False\n",
       "2036    False\n",
       "2037    False\n",
       "2038     True\n",
       "2040    False\n",
       "2041    False\n",
       "2044    False\n",
       "2045    False\n",
       "2046    False\n",
       "2048    False\n",
       "2049    False\n",
       "2051    False\n",
       "2052    False\n",
       "2053    False\n",
       "2054     True\n",
       "2055     True\n",
       "2056    False\n",
       "2057     True\n",
       "2060    False\n",
       "2061    False\n",
       "2062     True\n",
       "2064    False\n",
       "2065    False\n",
       "2068    False\n",
       "Name: JobSatisfaction, dtype: bool"
      ]
     },
     "execution_count": 41,
     "metadata": {},
     "output_type": "execute_result"
    }
   ],
   "source": [
    "data['JobSatisfaction'] == 'Low'"
   ]
  },
  {
   "cell_type": "markdown",
   "metadata": {},
   "source": [
    "We can use a boolean series to index a Series or a DataFrame, this is called \"Masking\" or boolean indexing."
   ]
  },
  {
   "cell_type": "code",
   "execution_count": 43,
   "metadata": {},
   "outputs": [
    {
     "data": {
      "text/plain": [
       "Int64Index([  10,   20,   27,   31,   33,   38,   51,   52,   54,   68,\n",
       "            ...\n",
       "            1975, 1980, 1998, 2021, 2023, 2038, 2054, 2055, 2057, 2062],\n",
       "           dtype='int64', name='EmployeeNumber', length=289)"
      ]
     },
     "execution_count": 43,
     "metadata": {},
     "output_type": "execute_result"
    }
   ],
   "source": [
    "data.loc[data['JobSatisfaction'] == 'Low'].index"
   ]
  },
  {
   "cell_type": "markdown",
   "metadata": {},
   "source": [
    "### Give me the list of the employees with Low level of both JobSatisfaction and JobInvolment"
   ]
  },
  {
   "cell_type": "code",
   "execution_count": 44,
   "metadata": {
    "collapsed": true
   },
   "outputs": [],
   "source": [
    "JobInvolment_cat = {\n",
    "    1: 'Low',\n",
    "    2: 'Medium',\n",
    "    3: 'High',\n",
    "    4: 'Very High'\n",
    "}\n",
    "data['JobInvolvement'] = data['JobInvolvement'].map(JobInvolment_cat)"
   ]
  },
  {
   "cell_type": "code",
   "execution_count": 45,
   "metadata": {},
   "outputs": [
    {
     "data": {
      "text/plain": [
       "array([  33,  235,  454,  615, 1019, 1037, 1237, 1460, 1478, 1544, 1611,\n",
       "       1622, 1905, 1956], dtype=int64)"
      ]
     },
     "execution_count": 45,
     "metadata": {},
     "output_type": "execute_result"
    }
   ],
   "source": [
    "data.loc[(data['JobSatisfaction'] == 'Low') & (data['JobInvolvement'] == 'Low')].index.values"
   ]
  },
  {
   "cell_type": "markdown",
   "metadata": {},
   "source": [
    "### Compare the employees with Low and Very High JobSatisfaction across the following variables: Age, Department, DistanceFromHome, HourlyRate, MonthlyIncome and YearsAtCompany."
   ]
  },
  {
   "cell_type": "markdown",
   "metadata": {},
   "source": [
    "**Grouping operations**: Split-Apply-Combine operation.\n",
    "\n",
    "By **gourping** or **group by** operations we are referring to a process involving one or more of the following steps:\n",
    "\n",
    "- **Splitting** the data into groups based on some criteria\n",
    "- **Applying** a function to each group independently\n",
    "- **Combining** the results into a data structure"
   ]
  },
  {
   "cell_type": "markdown",
   "metadata": {},
   "source": [
    "<b>Step1 (Split): </b> The <i>groupby</i> operation <b><i>splits</b></i> the dataframe into a group of dataframes based on some criteria. Note that the grouped object is <i>not</i> a dataframe. It is a GroupBy object. It has a dictionary-like structure and is also iterable.\n",
    "\n",
    "<img src=\"img/groupby1.jpg\">\n",
    "\n",
    "<b>Step 2 (Analyze):</b> Once we have a grouped object we can <b><i>apply</b></i> functions or run analysis to each group, set of groups, or the entire group. \n",
    "\n",
    "<img src=\"img/groupby2.jpg\">\n",
    "\n",
    "<b>Step 3 (Combine):</b> We can also <b><i>combine</b></i> the results of the analysis into a new data structure(s). \n",
    "\n",
    "<img src=\"img/groupby3.jpg\">"
   ]
  },
  {
   "cell_type": "markdown",
   "metadata": {},
   "source": [
    "Since we are only interested in the employees with \"Low\" and \"Very High\" JobSatisfaction levels, let's create a new DataFrame containing only those observations."
   ]
  },
  {
   "cell_type": "code",
   "execution_count": 46,
   "metadata": {},
   "outputs": [
    {
     "data": {
      "text/plain": [
       "(748, 33)"
      ]
     },
     "execution_count": 46,
     "metadata": {},
     "output_type": "execute_result"
    }
   ],
   "source": [
    "subset_of_interest = data.loc[(data['JobSatisfaction'] == \"Low\") | (data['JobSatisfaction'] == \"Very High\")]\n",
    "subset_of_interest.shape"
   ]
  },
  {
   "cell_type": "markdown",
   "metadata": {},
   "source": [
    "Since our JobSatisfaction variable had 4 categories, this categories have stayed in the series of this new DataFrame:"
   ]
  },
  {
   "cell_type": "code",
   "execution_count": 47,
   "metadata": {},
   "outputs": [
    {
     "data": {
      "text/plain": [
       "Very High    459\n",
       "Low          289\n",
       "Name: JobSatisfaction, dtype: int64"
      ]
     },
     "execution_count": 47,
     "metadata": {},
     "output_type": "execute_result"
    }
   ],
   "source": [
    "subset_of_interest['JobSatisfaction'].value_counts()"
   ]
  },
  {
   "cell_type": "markdown",
   "metadata": {},
   "source": [
    "Let's remove those categories we won't be using:"
   ]
  },
  {
   "cell_type": "code",
   "execution_count": 49,
   "metadata": {},
   "outputs": [],
   "source": [
    "#subset_of_interest['JobSatisfaction'].cat.remove_unused_categories(inplace=True)"
   ]
  },
  {
   "cell_type": "code",
   "execution_count": 50,
   "metadata": {},
   "outputs": [
    {
     "data": {
      "text/plain": [
       "Very High    459\n",
       "Low          289\n",
       "Name: JobSatisfaction, dtype: int64"
      ]
     },
     "execution_count": 50,
     "metadata": {},
     "output_type": "execute_result"
    }
   ],
   "source": [
    "subset_of_interest['JobSatisfaction'].value_counts()"
   ]
  },
  {
   "cell_type": "markdown",
   "metadata": {},
   "source": [
    "Now we have only the employees we are interested in, we can now compare accross the variables we wanted. First let's split our new DataFrame into groups."
   ]
  },
  {
   "cell_type": "code",
   "execution_count": 51,
   "metadata": {
    "collapsed": true
   },
   "outputs": [],
   "source": [
    "grouped = subset_of_interest.groupby('JobSatisfaction')"
   ]
  },
  {
   "cell_type": "code",
   "execution_count": 52,
   "metadata": {},
   "outputs": [
    {
     "data": {
      "text/plain": [
       "{'Low': Int64Index([  10,   20,   27,   31,   33,   38,   51,   52,   54,   68,\n",
       "             ...\n",
       "             1975, 1980, 1998, 2021, 2023, 2038, 2054, 2055, 2057, 2062],\n",
       "            dtype='int64', name='EmployeeNumber', length=289),\n",
       " 'Very High': Int64Index([   1,    8,   18,   22,   23,   24,   30,   36,   39,   40,\n",
       "             ...\n",
       "             2022, 2024, 2027, 2036, 2040, 2041, 2045, 2052, 2056, 2061],\n",
       "            dtype='int64', name='EmployeeNumber', length=459)}"
      ]
     },
     "execution_count": 52,
     "metadata": {},
     "output_type": "execute_result"
    }
   ],
   "source": [
    "grouped.groups"
   ]
  },
  {
   "cell_type": "code",
   "execution_count": 53,
   "metadata": {},
   "outputs": [
    {
     "data": {
      "text/html": [
       "<div>\n",
       "<table border=\"1\" class=\"dataframe\">\n",
       "  <thead>\n",
       "    <tr style=\"text-align: right;\">\n",
       "      <th></th>\n",
       "      <th>Age</th>\n",
       "      <th>Attrition</th>\n",
       "      <th>BusinessTravel</th>\n",
       "      <th>DailyRate</th>\n",
       "      <th>Department</th>\n",
       "      <th>DistanceFromHome</th>\n",
       "      <th>Education</th>\n",
       "      <th>EducationField</th>\n",
       "      <th>EnvironmentSatisfaction</th>\n",
       "      <th>Gender</th>\n",
       "      <th>...</th>\n",
       "      <th>RelationshipSatisfaction</th>\n",
       "      <th>StandardHours</th>\n",
       "      <th>StockOptionLevel</th>\n",
       "      <th>TotalWorkingYears</th>\n",
       "      <th>TrainingTimesLastYear</th>\n",
       "      <th>WorkLifeBalance</th>\n",
       "      <th>YearsAtCompany</th>\n",
       "      <th>YearsInCurrentRole</th>\n",
       "      <th>YearsSinceLastPromotion</th>\n",
       "      <th>YearsWithCurrManager</th>\n",
       "    </tr>\n",
       "    <tr>\n",
       "      <th>EmployeeNumber</th>\n",
       "      <th></th>\n",
       "      <th></th>\n",
       "      <th></th>\n",
       "      <th></th>\n",
       "      <th></th>\n",
       "      <th></th>\n",
       "      <th></th>\n",
       "      <th></th>\n",
       "      <th></th>\n",
       "      <th></th>\n",
       "      <th></th>\n",
       "      <th></th>\n",
       "      <th></th>\n",
       "      <th></th>\n",
       "      <th></th>\n",
       "      <th></th>\n",
       "      <th></th>\n",
       "      <th></th>\n",
       "      <th></th>\n",
       "      <th></th>\n",
       "      <th></th>\n",
       "    </tr>\n",
       "  </thead>\n",
       "  <tbody>\n",
       "    <tr>\n",
       "      <th>10</th>\n",
       "      <td>59</td>\n",
       "      <td>No</td>\n",
       "      <td>Travel_Rarely</td>\n",
       "      <td>1324</td>\n",
       "      <td>Research &amp; Development</td>\n",
       "      <td>3</td>\n",
       "      <td>3</td>\n",
       "      <td>Medical</td>\n",
       "      <td>3</td>\n",
       "      <td>Female</td>\n",
       "      <td>...</td>\n",
       "      <td>1</td>\n",
       "      <td>80</td>\n",
       "      <td>3</td>\n",
       "      <td>12</td>\n",
       "      <td>3</td>\n",
       "      <td>2</td>\n",
       "      <td>1</td>\n",
       "      <td>0</td>\n",
       "      <td>0</td>\n",
       "      <td>0</td>\n",
       "    </tr>\n",
       "    <tr>\n",
       "      <th>20</th>\n",
       "      <td>29</td>\n",
       "      <td>No</td>\n",
       "      <td>Travel_Rarely</td>\n",
       "      <td>1389</td>\n",
       "      <td>Research &amp; Development</td>\n",
       "      <td>21</td>\n",
       "      <td>4</td>\n",
       "      <td>Life Sciences</td>\n",
       "      <td>2</td>\n",
       "      <td>Female</td>\n",
       "      <td>...</td>\n",
       "      <td>3</td>\n",
       "      <td>80</td>\n",
       "      <td>1</td>\n",
       "      <td>10</td>\n",
       "      <td>1</td>\n",
       "      <td>3</td>\n",
       "      <td>10</td>\n",
       "      <td>9</td>\n",
       "      <td>8</td>\n",
       "      <td>8</td>\n",
       "    </tr>\n",
       "    <tr>\n",
       "      <th>27</th>\n",
       "      <td>36</td>\n",
       "      <td>Yes</td>\n",
       "      <td>Travel_Rarely</td>\n",
       "      <td>1218</td>\n",
       "      <td>Sales</td>\n",
       "      <td>9</td>\n",
       "      <td>4</td>\n",
       "      <td>Life Sciences</td>\n",
       "      <td>3</td>\n",
       "      <td>Male</td>\n",
       "      <td>...</td>\n",
       "      <td>2</td>\n",
       "      <td>80</td>\n",
       "      <td>0</td>\n",
       "      <td>10</td>\n",
       "      <td>4</td>\n",
       "      <td>3</td>\n",
       "      <td>5</td>\n",
       "      <td>3</td>\n",
       "      <td>0</td>\n",
       "      <td>3</td>\n",
       "    </tr>\n",
       "    <tr>\n",
       "      <th>31</th>\n",
       "      <td>34</td>\n",
       "      <td>Yes</td>\n",
       "      <td>Travel_Rarely</td>\n",
       "      <td>699</td>\n",
       "      <td>Research &amp; Development</td>\n",
       "      <td>6</td>\n",
       "      <td>1</td>\n",
       "      <td>Medical</td>\n",
       "      <td>2</td>\n",
       "      <td>Male</td>\n",
       "      <td>...</td>\n",
       "      <td>3</td>\n",
       "      <td>80</td>\n",
       "      <td>0</td>\n",
       "      <td>8</td>\n",
       "      <td>2</td>\n",
       "      <td>3</td>\n",
       "      <td>4</td>\n",
       "      <td>2</td>\n",
       "      <td>1</td>\n",
       "      <td>3</td>\n",
       "    </tr>\n",
       "    <tr>\n",
       "      <th>33</th>\n",
       "      <td>32</td>\n",
       "      <td>Yes</td>\n",
       "      <td>Travel_Frequently</td>\n",
       "      <td>1125</td>\n",
       "      <td>Research &amp; Development</td>\n",
       "      <td>16</td>\n",
       "      <td>1</td>\n",
       "      <td>Life Sciences</td>\n",
       "      <td>2</td>\n",
       "      <td>Female</td>\n",
       "      <td>...</td>\n",
       "      <td>2</td>\n",
       "      <td>80</td>\n",
       "      <td>0</td>\n",
       "      <td>10</td>\n",
       "      <td>5</td>\n",
       "      <td>3</td>\n",
       "      <td>10</td>\n",
       "      <td>2</td>\n",
       "      <td>6</td>\n",
       "      <td>7</td>\n",
       "    </tr>\n",
       "  </tbody>\n",
       "</table>\n",
       "<p>5 rows × 33 columns</p>\n",
       "</div>"
      ],
      "text/plain": [
       "                Age Attrition     BusinessTravel  DailyRate  \\\n",
       "EmployeeNumber                                                \n",
       "10               59        No      Travel_Rarely       1324   \n",
       "20               29        No      Travel_Rarely       1389   \n",
       "27               36       Yes      Travel_Rarely       1218   \n",
       "31               34       Yes      Travel_Rarely        699   \n",
       "33               32       Yes  Travel_Frequently       1125   \n",
       "\n",
       "                            Department  DistanceFromHome  Education  \\\n",
       "EmployeeNumber                                                        \n",
       "10              Research & Development                 3          3   \n",
       "20              Research & Development                21          4   \n",
       "27                               Sales                 9          4   \n",
       "31              Research & Development                 6          1   \n",
       "33              Research & Development                16          1   \n",
       "\n",
       "               EducationField  EnvironmentSatisfaction  Gender  \\\n",
       "EmployeeNumber                                                   \n",
       "10                    Medical                        3  Female   \n",
       "20              Life Sciences                        2  Female   \n",
       "27              Life Sciences                        3    Male   \n",
       "31                    Medical                        2    Male   \n",
       "33              Life Sciences                        2  Female   \n",
       "\n",
       "                       ...           RelationshipSatisfaction StandardHours  \\\n",
       "EmployeeNumber         ...                                                    \n",
       "10                     ...                                  1            80   \n",
       "20                     ...                                  3            80   \n",
       "27                     ...                                  2            80   \n",
       "31                     ...                                  3            80   \n",
       "33                     ...                                  2            80   \n",
       "\n",
       "                StockOptionLevel TotalWorkingYears TrainingTimesLastYear  \\\n",
       "EmployeeNumber                                                             \n",
       "10                             3                12                     3   \n",
       "20                             1                10                     1   \n",
       "27                             0                10                     4   \n",
       "31                             0                 8                     2   \n",
       "33                             0                10                     5   \n",
       "\n",
       "               WorkLifeBalance  YearsAtCompany  YearsInCurrentRole  \\\n",
       "EmployeeNumber                                                       \n",
       "10                           2               1                   0   \n",
       "20                           3              10                   9   \n",
       "27                           3               5                   3   \n",
       "31                           3               4                   2   \n",
       "33                           3              10                   2   \n",
       "\n",
       "                YearsSinceLastPromotion YearsWithCurrManager  \n",
       "EmployeeNumber                                                \n",
       "10                                    0                    0  \n",
       "20                                    8                    8  \n",
       "27                                    0                    3  \n",
       "31                                    1                    3  \n",
       "33                                    6                    7  \n",
       "\n",
       "[5 rows x 33 columns]"
      ]
     },
     "execution_count": 53,
     "metadata": {},
     "output_type": "execute_result"
    }
   ],
   "source": [
    "grouped.get_group('Low').head()"
   ]
  },
  {
   "cell_type": "markdown",
   "metadata": {},
   "source": [
    "#### Age"
   ]
  },
  {
   "cell_type": "code",
   "execution_count": 54,
   "metadata": {},
   "outputs": [
    {
     "data": {
      "text/plain": [
       "<pandas.core.groupby.SeriesGroupBy object at 0x000001E03F564898>"
      ]
     },
     "execution_count": 54,
     "metadata": {},
     "output_type": "execute_result"
    }
   ],
   "source": [
    "grouped['Age']"
   ]
  },
  {
   "cell_type": "code",
   "execution_count": 55,
   "metadata": {},
   "outputs": [
    {
     "data": {
      "text/plain": [
       "JobSatisfaction\n",
       "Low          36.916955\n",
       "Very High    36.795207\n",
       "Name: Age, dtype: float64"
      ]
     },
     "execution_count": 55,
     "metadata": {},
     "output_type": "execute_result"
    }
   ],
   "source": [
    "grouped['Age'].mean()"
   ]
  },
  {
   "cell_type": "code",
   "execution_count": 56,
   "metadata": {},
   "outputs": [
    {
     "data": {
      "text/plain": [
       "JobSatisfaction       \n",
       "Low              count    289.000000\n",
       "                 mean      36.916955\n",
       "                 std        9.245496\n",
       "                 min       19.000000\n",
       "                 25%       30.000000\n",
       "                 50%       36.000000\n",
       "                 75%       42.000000\n",
       "                 max       60.000000\n",
       "Very High        count    459.000000\n",
       "                 mean      36.795207\n",
       "                 std        9.125609\n",
       "                 min       18.000000\n",
       "                 25%       30.000000\n",
       "                 50%       35.000000\n",
       "                 75%       43.000000\n",
       "                 max       60.000000\n",
       "Name: Age, dtype: float64"
      ]
     },
     "execution_count": 56,
     "metadata": {},
     "output_type": "execute_result"
    }
   ],
   "source": [
    "grouped['Age'].describe()"
   ]
  },
  {
   "cell_type": "code",
   "execution_count": 57,
   "metadata": {},
   "outputs": [
    {
     "data": {
      "text/html": [
       "<div>\n",
       "<table border=\"1\" class=\"dataframe\">\n",
       "  <thead>\n",
       "    <tr style=\"text-align: right;\">\n",
       "      <th></th>\n",
       "      <th>count</th>\n",
       "      <th>mean</th>\n",
       "      <th>std</th>\n",
       "      <th>min</th>\n",
       "      <th>25%</th>\n",
       "      <th>50%</th>\n",
       "      <th>75%</th>\n",
       "      <th>max</th>\n",
       "    </tr>\n",
       "    <tr>\n",
       "      <th>JobSatisfaction</th>\n",
       "      <th></th>\n",
       "      <th></th>\n",
       "      <th></th>\n",
       "      <th></th>\n",
       "      <th></th>\n",
       "      <th></th>\n",
       "      <th></th>\n",
       "      <th></th>\n",
       "    </tr>\n",
       "  </thead>\n",
       "  <tbody>\n",
       "    <tr>\n",
       "      <th>Low</th>\n",
       "      <td>289.0</td>\n",
       "      <td>36.916955</td>\n",
       "      <td>9.245496</td>\n",
       "      <td>19.0</td>\n",
       "      <td>30.0</td>\n",
       "      <td>36.0</td>\n",
       "      <td>42.0</td>\n",
       "      <td>60.0</td>\n",
       "    </tr>\n",
       "    <tr>\n",
       "      <th>Very High</th>\n",
       "      <td>459.0</td>\n",
       "      <td>36.795207</td>\n",
       "      <td>9.125609</td>\n",
       "      <td>18.0</td>\n",
       "      <td>30.0</td>\n",
       "      <td>35.0</td>\n",
       "      <td>43.0</td>\n",
       "      <td>60.0</td>\n",
       "    </tr>\n",
       "  </tbody>\n",
       "</table>\n",
       "</div>"
      ],
      "text/plain": [
       "                 count       mean       std   min   25%   50%   75%   max\n",
       "JobSatisfaction                                                          \n",
       "Low              289.0  36.916955  9.245496  19.0  30.0  36.0  42.0  60.0\n",
       "Very High        459.0  36.795207  9.125609  18.0  30.0  35.0  43.0  60.0"
      ]
     },
     "execution_count": 57,
     "metadata": {},
     "output_type": "execute_result"
    }
   ],
   "source": [
    "grouped['Age'].describe().unstack()"
   ]
  },
  {
   "cell_type": "markdown",
   "metadata": {},
   "source": [
    "#### Department"
   ]
  },
  {
   "cell_type": "code",
   "execution_count": 58,
   "metadata": {},
   "outputs": [
    {
     "data": {
      "text/html": [
       "<div>\n",
       "<table border=\"1\" class=\"dataframe\">\n",
       "  <thead>\n",
       "    <tr style=\"text-align: right;\">\n",
       "      <th>Department</th>\n",
       "      <th>Human Resources</th>\n",
       "      <th>Research &amp; Development</th>\n",
       "      <th>Sales</th>\n",
       "    </tr>\n",
       "    <tr>\n",
       "      <th>JobSatisfaction</th>\n",
       "      <th></th>\n",
       "      <th></th>\n",
       "      <th></th>\n",
       "    </tr>\n",
       "  </thead>\n",
       "  <tbody>\n",
       "    <tr>\n",
       "      <th>Low</th>\n",
       "      <td>11</td>\n",
       "      <td>192</td>\n",
       "      <td>86</td>\n",
       "    </tr>\n",
       "    <tr>\n",
       "      <th>Very High</th>\n",
       "      <td>17</td>\n",
       "      <td>295</td>\n",
       "      <td>147</td>\n",
       "    </tr>\n",
       "  </tbody>\n",
       "</table>\n",
       "</div>"
      ],
      "text/plain": [
       "Department       Human Resources  Research & Development  Sales\n",
       "JobSatisfaction                                                \n",
       "Low                           11                     192     86\n",
       "Very High                     17                     295    147"
      ]
     },
     "execution_count": 58,
     "metadata": {},
     "output_type": "execute_result"
    }
   ],
   "source": [
    "grouped['Department'].value_counts().unstack()"
   ]
  },
  {
   "cell_type": "code",
   "execution_count": 59,
   "metadata": {},
   "outputs": [
    {
     "data": {
      "text/html": [
       "<div>\n",
       "<table border=\"1\" class=\"dataframe\">\n",
       "  <thead>\n",
       "    <tr style=\"text-align: right;\">\n",
       "      <th>Department</th>\n",
       "      <th>Human Resources</th>\n",
       "      <th>Research &amp; Development</th>\n",
       "      <th>Sales</th>\n",
       "    </tr>\n",
       "    <tr>\n",
       "      <th>JobSatisfaction</th>\n",
       "      <th></th>\n",
       "      <th></th>\n",
       "      <th></th>\n",
       "    </tr>\n",
       "  </thead>\n",
       "  <tbody>\n",
       "    <tr>\n",
       "      <th>Low</th>\n",
       "      <td>3.806228</td>\n",
       "      <td>66.435986</td>\n",
       "      <td>29.757785</td>\n",
       "    </tr>\n",
       "    <tr>\n",
       "      <th>Very High</th>\n",
       "      <td>3.703704</td>\n",
       "      <td>64.270153</td>\n",
       "      <td>32.026144</td>\n",
       "    </tr>\n",
       "  </tbody>\n",
       "</table>\n",
       "</div>"
      ],
      "text/plain": [
       "Department       Human Resources  Research & Development      Sales\n",
       "JobSatisfaction                                                    \n",
       "Low                     3.806228               66.435986  29.757785\n",
       "Very High               3.703704               64.270153  32.026144"
      ]
     },
     "execution_count": 59,
     "metadata": {},
     "output_type": "execute_result"
    }
   ],
   "source": [
    "100*grouped['Department'].value_counts(normalize=True).unstack()"
   ]
  },
  {
   "cell_type": "markdown",
   "metadata": {},
   "source": [
    "#### DistanceFromHome"
   ]
  },
  {
   "cell_type": "code",
   "execution_count": null,
   "metadata": {},
   "outputs": [],
   "source": [
    "grouped['DistanceFromHome'].describe().unstack()"
   ]
  },
  {
   "cell_type": "markdown",
   "metadata": {},
   "source": [
    "#### HourlyRate"
   ]
  },
  {
   "cell_type": "code",
   "execution_count": null,
   "metadata": {},
   "outputs": [],
   "source": [
    "grouped['HourlyRate'].describe().unstack()"
   ]
  },
  {
   "cell_type": "markdown",
   "metadata": {},
   "source": [
    "#### MonthlyIncome"
   ]
  },
  {
   "cell_type": "code",
   "execution_count": null,
   "metadata": {},
   "outputs": [],
   "source": [
    "grouped['MonthlyIncome'].describe().unstack()"
   ]
  },
  {
   "cell_type": "markdown",
   "metadata": {},
   "source": [
    "#### YearsAtCompany"
   ]
  },
  {
   "cell_type": "code",
   "execution_count": null,
   "metadata": {},
   "outputs": [],
   "source": [
    "grouped['YearsAtCompany'].describe().unstack()"
   ]
  },
  {
   "cell_type": "markdown",
   "metadata": {},
   "source": [
    "### Comparing the means across all numerical variables"
   ]
  },
  {
   "cell_type": "markdown",
   "metadata": {},
   "source": [
    "Although we we asked for just some specific columns, to give the HR director a better picture of how these groups compare across different variables, let's create a DataFrame that contains the mean for every numeric variable in our dataset.         "
   ]
  },
  {
   "cell_type": "code",
   "execution_count": null,
   "metadata": {},
   "outputs": [],
   "source": [
    "# Getting the numerical columns\n",
    "numeric_cols = subset_of_interest.select_dtypes(include=[np.number]).columns"
   ]
  },
  {
   "cell_type": "code",
   "execution_count": null,
   "metadata": {
    "scrolled": true
   },
   "outputs": [],
   "source": [
    "# Creating an empty DataFrame\n",
    "mean_comparison_df = pd.DataFrame(columns=numeric_cols, index=['Low', 'Very High'])\n",
    "mean_comparison_df"
   ]
  },
  {
   "cell_type": "code",
   "execution_count": null,
   "metadata": {},
   "outputs": [],
   "source": [
    "grouped['Age'].mean()"
   ]
  },
  {
   "cell_type": "code",
   "execution_count": null,
   "metadata": {},
   "outputs": [],
   "source": [
    "# Filling the DataFrame\n",
    "for var in numeric_cols:\n",
    "    mean_comparison_df[var] = grouped[var].mean()"
   ]
  },
  {
   "cell_type": "code",
   "execution_count": null,
   "metadata": {},
   "outputs": [],
   "source": [
    "mean_comparison_df"
   ]
  },
  {
   "cell_type": "code",
   "execution_count": null,
   "metadata": {},
   "outputs": [],
   "source": [
    "mean_comparison_df = mean_comparison_df.transpose()\n",
    "mean_comparison_df"
   ]
  },
  {
   "cell_type": "markdown",
   "metadata": {},
   "source": [
    "### Let's do a visualization"
   ]
  },
  {
   "cell_type": "code",
   "execution_count": null,
   "metadata": {},
   "outputs": [],
   "source": [
    "mean_comparison_df.plot(kind='bar', figsize=(13,4),\n",
    "                                   title=\"Comparison of Means\");"
   ]
  },
  {
   "cell_type": "code",
   "execution_count": null,
   "metadata": {
    "collapsed": true
   },
   "outputs": [],
   "source": [
    "overal_means = data.mean()\n",
    "normalized_mean_comparison_df = mean_comparison_df.copy()"
   ]
  },
  {
   "cell_type": "code",
   "execution_count": null,
   "metadata": {},
   "outputs": [],
   "source": [
    "overal_means = data.mean()\n",
    "normalized_mean_comparison_df['Low'] = mean_comparison_df['Low'] / overal_means\n",
    "normalized_mean_comparison_df['Very High'] = mean_comparison_df['Very High'] / overal_means"
   ]
  },
  {
   "cell_type": "code",
   "execution_count": null,
   "metadata": {},
   "outputs": [],
   "source": [
    "normalized_mean_comparison_df.plot(kind='bar', figsize=(13,4),\n",
    "                                   title=\"Comparison of Normalized Means\")\n",
    "plt.legend(loc='lower left', bbox_to_anchor=(0.16, 1.0))\n",
    "plt.text(x=-0.2, y = 1.2, s=\"JobSatisfaction:\", fontdict={'size':14});"
   ]
  },
  {
   "cell_type": "markdown",
   "metadata": {},
   "source": [
    "Issues to keep in mind about this dataset:\n",
    "    \n",
    "- There are many variables that are detected as numerical but are actually categorical (like Education).\n",
    "- Since this is a simulated dataset, it is hard to find interesting patterns."
   ]
  },
  {
   "cell_type": "code",
   "execution_count": null,
   "metadata": {
    "collapsed": true
   },
   "outputs": [],
   "source": []
  },
  {
   "cell_type": "code",
   "execution_count": null,
   "metadata": {
    "collapsed": true
   },
   "outputs": [],
   "source": []
  }
 ],
 "metadata": {
  "kernelspec": {
   "display_name": "Python 3",
   "language": "python",
   "name": "python3"
  },
  "language_info": {
   "codemirror_mode": {
    "name": "ipython",
    "version": 3
   },
   "file_extension": ".py",
   "mimetype": "text/x-python",
   "name": "python",
   "nbconvert_exporter": "python",
   "pygments_lexer": "ipython3",
   "version": "3.7.6"
  },
  "toc": {
   "colors": {
    "hover_highlight": "#DAA520",
    "running_highlight": "#FF0000",
    "selected_highlight": "#FFD700"
   },
   "moveMenuLeft": true,
   "nav_menu": {
    "height": "210px",
    "width": "252px"
   },
   "navigate_menu": true,
   "number_sections": true,
   "sideBar": true,
   "threshold": 4,
   "toc_cell": false,
   "toc_section_display": "block",
   "toc_window_display": false
  }
 },
 "nbformat": 4,
 "nbformat_minor": 2
}
